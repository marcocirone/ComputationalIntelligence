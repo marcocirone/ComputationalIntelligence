{
 "cells": [
  {
   "cell_type": "code",
   "execution_count": 19,
   "metadata": {},
   "outputs": [],
   "source": [
    "from random import random\n",
    "from functools import reduce\n",
    "from collections import namedtuple\n",
    "from queue import PriorityQueue, SimpleQueue, LifoQueue\n",
    "\n",
    "import numpy as np"
   ]
  },
  {
   "cell_type": "code",
   "execution_count": 20,
   "metadata": {},
   "outputs": [],
   "source": [
    "PROBLEM_SIZE = 50\n",
    "NUM_SETS = 100\n",
    "SETS = tuple(\n",
    "    np.array([random() < 0.3 for _ in range(PROBLEM_SIZE)])\n",
    "    for _ in range(NUM_SETS)\n",
    ")\n",
    "\n",
    "State = namedtuple('State', ['taken', 'not_taken'])"
   ]
  },
  {
   "cell_type": "code",
   "execution_count": 21,
   "metadata": {},
   "outputs": [],
   "source": [
    "def goal_check(state):\n",
    "    return np.all(reduce(\n",
    "        np.logical_or,\n",
    "        [SETS[i] for i in state.taken],\n",
    "        np.array([False for _ in range(PROBLEM_SIZE)]),\n",
    "    ))\n",
    "\n",
    "\n",
    "def coverage(state):\n",
    "    return reduce(\n",
    "        np.logical_or,\n",
    "        [SETS[i] for i in state.taken],\n",
    "        np.array([False for _ in range(PROBLEM_SIZE)])\n",
    "    )\n",
    "\n",
    "\n",
    "def distance(state):\n",
    "    p = reduce(\n",
    "            np.logical_or,\n",
    "            [SETS[i] for i in state.taken],\n",
    "            np.array([False for _ in range(PROBLEM_SIZE)]),\n",
    "        )\n",
    "\n",
    "    return PROBLEM_SIZE - sum(p)\n",
    "\n",
    "\n",
    "def compute_min_tiles(state):   #look how many blocks are still not filled and estimate the minimum number of tiles required to fill them\n",
    "    covered = coverage(state)\n",
    "    missing = PROBLEM_SIZE - sum(covered)\n",
    "    sort_cand = sorted(sum(np.logical_and(SETS[c], np.logical_not(covered)) for c in state.not_taken), reverse=True)\n",
    "    taken = 1\n",
    "    while sum(sort_cand[:taken]) < missing:\n",
    "        taken += 1\n",
    "    return taken\n",
    "\n",
    "\n",
    "def compute_min_tiles1(state):  #like the previous one but it actually stops when the whole set is covered\n",
    "    covered = coverage(state)\n",
    "    sort_cand = sorted(state.not_taken, key=lambda c : sum(np.logical_and(SETS[c], np.logical_not(covered))), reverse=True)\n",
    "    taken = 0\n",
    "    for c in sort_cand:\n",
    "        if np.all(covered):\n",
    "            break\n",
    "        covered = np.logical_or(covered, SETS[c])\n",
    "        taken += 1\n",
    "    return taken\n",
    "\n",
    "\n",
    "def compute_min_tiles2(state):   #this actually computes how many tiles are required to fill the whole space, but it's not an estimation\n",
    "    added = 0\n",
    "    covered = coverage(state)\n",
    "    while not np.all(covered):\n",
    "        # missing = PROBLEM_SIZE - sum(covered)\n",
    "        best_cand = max(state.not_taken, key=lambda c : sum(np.logical_and(SETS[c], np.logical_not(covered))))\n",
    "        state = State(\n",
    "            state.taken ^ {best_cand},\n",
    "            state.not_taken ^ {best_cand},\n",
    "        )\n",
    "        added += 1\n",
    "        covered = np.logical_or(covered, SETS[best_cand])\n",
    "    return added\n",
    "\n",
    "\n",
    "def compute_min_tiles3(state):  #sort the remaining tiles based on the amount of non overlapping blocks\n",
    "    added = 0\n",
    "    covered = coverage(state)\n",
    "    sort_cand = sorted(state.not_taken, key=lambda c : sum(np.logical_and(SETS[c], covered)))\n",
    "    for c in sort_cand:\n",
    "        if np.all(covered):\n",
    "            break\n",
    "        covered = np.logical_or(covered, SETS[c])\n",
    "        added += 1\n",
    "    return added\n",
    "\n",
    "\n",
    "def compute_min_tiles4(state): #similar to the previous one, the idea is to select the tiles that are filling non-filled blocks and are not filling already filled blocks\n",
    "    added = 0\n",
    "    covered = coverage(state)\n",
    "    sort_cand = sorted(state.not_taken, key=lambda c : sum(np.logical_xor(SETS[c], covered)), reverse=True)\n",
    "    for c in sort_cand:\n",
    "        if np.all(covered):\n",
    "            break\n",
    "        covered = np.logical_or(covered, SETS[c])\n",
    "        added += 1\n",
    "    return added\n"
   ]
  },
  {
   "cell_type": "code",
   "execution_count": 22,
   "metadata": {},
   "outputs": [],
   "source": [
    "assert goal_check(\n",
    "    State(set(range(NUM_SETS)), set())\n",
    "), \"Problem not solvable\""
   ]
  },
  {
   "cell_type": "code",
   "execution_count": 23,
   "metadata": {},
   "outputs": [
    {
     "name": "stdout",
     "output_type": "stream",
     "text": [
      "Solved in 6 steps (4 tiles)\n"
     ]
    }
   ],
   "source": [
    "frontier = PriorityQueue()\n",
    "already_explored = []\n",
    "opt_sol = None\n",
    "found_solutions = []\n",
    "# frontier = SimpleQueue()\n",
    "\n",
    "state = State(set(), set(range(NUM_SETS)))\n",
    "frontier.put((distance(state), state))\n",
    "\n",
    "counter = 0\n",
    "skip_count = 0\n",
    "_, current_state = frontier.get()\n",
    "\n",
    "while not goal_check(current_state):\n",
    "    if sorted(current_state.taken) not in already_explored:\n",
    "        already_explored.append(sorted(current_state.taken))\n",
    "        counter += 1\n",
    "        for action in current_state[1]:\n",
    "            new_state = State(\n",
    "                current_state.taken ^ {action},\n",
    "                current_state.not_taken ^ {action},\n",
    "            )\n",
    "\n",
    "            frontier.put((len(new_state.taken) + compute_min_tiles4(new_state), new_state))\n",
    "\n",
    "    else:\n",
    "        skip_count += 1\n",
    "    _, current_state = frontier.get()\n",
    "\n",
    "\n",
    "print(\n",
    "    f\"Solved in {counter:,} steps ({len(current_state.taken)} tiles)\"\n",
    ")"
   ]
  },
  {
   "cell_type": "code",
   "execution_count": 24,
   "metadata": {},
   "outputs": [
    {
     "name": "stdout",
     "output_type": "stream",
     "text": [
      "{54, 83, 13, 94}\n"
     ]
    }
   ],
   "source": [
    "print(current_state.taken)"
   ]
  },
  {
   "cell_type": "code",
   "execution_count": 25,
   "metadata": {},
   "outputs": [
    {
     "name": "stdout",
     "output_type": "stream",
     "text": [
      "0\n"
     ]
    }
   ],
   "source": [
    "print(skip_count)"
   ]
  },
  {
   "cell_type": "code",
   "execution_count": 26,
   "metadata": {},
   "outputs": [
    {
     "name": "stdout",
     "output_type": "stream",
     "text": [
      "6\n"
     ]
    }
   ],
   "source": [
    "print(len(already_explored))"
   ]
  },
  {
   "cell_type": "code",
   "execution_count": 27,
   "metadata": {},
   "outputs": [
    {
     "name": "stdout",
     "output_type": "stream",
     "text": [
      "[ True False False False False False False  True  True  True  True False\n",
      " False  True False  True False  True  True False False  True  True  True\n",
      " False  True False False  True False  True False False False False  True\n",
      " False False False  True False False False False  True False False  True\n",
      "  True  True]\n",
      "[False False False  True  True False  True False False False False False\n",
      "  True  True False  True False  True False  True False  True False False\n",
      "  True False False False False False False  True  True False  True False\n",
      "  True  True  True False False False  True False False False  True  True\n",
      " False  True]\n",
      "[False  True False False False False False  True  True False False False\n",
      " False False False False  True False False  True  True  True False False\n",
      " False False  True  True False  True False False  True False False False\n",
      " False False False False False  True  True False False  True False  True\n",
      "  True False]\n",
      "[False False  True  True False  True False False False False  True  True\n",
      " False False  True  True False False False False  True False False False\n",
      " False False False False False False False False False  True False False\n",
      " False False False  True  True False  True  True False  True False False\n",
      "  True  True]\n"
     ]
    }
   ],
   "source": [
    "for i in current_state.taken:\n",
    "    print(SETS[i])"
   ]
  }
 ],
 "metadata": {
  "kernelspec": {
   "display_name": "ci-P-7LqQ3C-py3.11",
   "language": "python",
   "name": "python3"
  },
  "language_info": {
   "codemirror_mode": {
    "name": "ipython",
    "version": 3
   },
   "file_extension": ".py",
   "mimetype": "text/x-python",
   "name": "python",
   "nbconvert_exporter": "python",
   "pygments_lexer": "ipython3",
   "version": "3.12.0"
  }
 },
 "nbformat": 4,
 "nbformat_minor": 2
}
