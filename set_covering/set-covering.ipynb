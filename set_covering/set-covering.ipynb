{
 "cells": [
  {
   "cell_type": "markdown",
   "metadata": {},
   "source": [
    "Copyright **`(c)`** 2023 Giovanni Squillero `<giovanni.squillero@polito.it>`  \n",
    "[`https://github.com/squillero/computational-intelligence`](https://github.com/squillero/computational-intelligence)  \n",
    "Free for personal or classroom use; see [`LICENSE.md`](https://github.com/squillero/computational-intelligence/blob/master/LICENSE.md) for details.  "
   ]
  },
  {
   "cell_type": "code",
   "execution_count": 1,
   "metadata": {},
   "outputs": [],
   "source": [
    "from random import random\n",
    "from functools import reduce\n",
    "from collections import namedtuple\n",
    "from queue import PriorityQueue, SimpleQueue, LifoQueue\n",
    "\n",
    "import numpy as np"
   ]
  },
  {
   "cell_type": "code",
   "execution_count": 2,
   "metadata": {},
   "outputs": [],
   "source": [
    "PROBLEM_SIZE = 10\n",
    "NUM_SETS = 20\n",
    "SETS = tuple(\n",
    "    np.array([random() < 0.3 for _ in range(PROBLEM_SIZE)])\n",
    "    for _ in range(NUM_SETS)\n",
    ")\n",
    "\n",
    "#SETS = sorted(SETS, reverse=True, key=lambda e : sum(e))\n",
    "\n",
    "State = namedtuple('State', ['taken', 'not_taken'])"
   ]
  },
  {
   "cell_type": "code",
   "execution_count": 3,
   "metadata": {},
   "outputs": [],
   "source": [
    "def goal_check(state):\n",
    "    return np.all(reduce(\n",
    "        np.logical_or,\n",
    "        [SETS[i] for i in state.taken],\n",
    "        np.array([False for _ in range(PROBLEM_SIZE)]),\n",
    "    ))\n",
    "\n",
    "\n",
    "def coverage(state):\n",
    "    return reduce(\n",
    "        np.logical_or,\n",
    "        [SETS[i] for i in state.taken],\n",
    "        np.array([False for _ in range(PROBLEM_SIZE)])\n",
    "    )\n",
    "\n",
    "\n",
    "def distance(state):\n",
    "    p = reduce(\n",
    "            np.logical_or,\n",
    "            [SETS[i] for i in state.taken],\n",
    "            np.array([False for _ in range(PROBLEM_SIZE)]),\n",
    "        )\n",
    "\n",
    "    return PROBLEM_SIZE - sum(p)\n",
    "\n",
    "\n",
    "def compute_min_tiles(state):   #look how many blocks are still not filled and estimate the minimum number of tiles required to fill them\n",
    "    covered = coverage(state)\n",
    "    missing = PROBLEM_SIZE - sum(covered)\n",
    "    sort_cand = sorted(sum(np.logical_and(SETS[c], np.logical_not(covered)) for c in state.not_taken), reverse=True)\n",
    "    taken = 1\n",
    "    while sum(sort_cand[:taken]) < missing:\n",
    "        taken += 1\n",
    "    return taken\n",
    "\n",
    "\n",
    "def compute_min_tiles1(state):  #like the previous one but it actually stops when the whole set is covered\n",
    "    covered = coverage(state)\n",
    "    missing = PROBLEM_SIZE - sum(covered)\n",
    "    sort_cand = sorted(state.not_taken, key=lambda c : sum(np.logical_and(SETS[c], np.logical_not(covered))), reverse=True)\n",
    "    taken = 0\n",
    "    for c in sort_cand:\n",
    "        if np.all(covered):\n",
    "            break\n",
    "        covered = np.logical_or(covered, SETS[c])\n",
    "        taken += 1\n",
    "    return taken\n",
    "\n",
    "\n",
    "def compute_min_tiles2(state):   #this actually computes how many tiles are required to fill the whole space, but it's not an estimation\n",
    "    added = 0\n",
    "    covered = coverage(state)\n",
    "    while not np.all(covered):\n",
    "        # missing = PROBLEM_SIZE - sum(covered)\n",
    "        best_cand = max(state.not_taken, key=lambda c : sum(np.logical_and(SETS[c], np.logical_not(covered))))\n",
    "        state = State(\n",
    "            state.taken ^ {best_cand},\n",
    "            state.not_taken ^ {best_cand},\n",
    "        )\n",
    "        added += 1\n",
    "        covered = np.logical_or(covered, SETS[best_cand])\n",
    "    return added\n",
    "\n",
    "\n",
    "def compute_min_tiles3(state):  #sort the remaining tiles based on the amount of non overlapping blocks\n",
    "    added = 0\n",
    "    covered = coverage(state)\n",
    "    sort_cand = sorted(state.not_taken, key=lambda c : sum(np.logical_and(SETS[c], covered)))\n",
    "    for c in sort_cand:\n",
    "        if np.all(covered):\n",
    "            break\n",
    "        covered = np.logical_or(covered, SETS[c])\n",
    "        added += 1\n",
    "    return added\n",
    "\n",
    "\n",
    "def compute_min_tiles4(state): #similar to the previous one, the idea is to select the tiles that are filling non-filled blocks and are not filling already filled blocks\n",
    "    added = 0\n",
    "    covered = coverage(state)\n",
    "    sort_cand = sorted(state.not_taken, key=lambda c : sum(np.logical_xor(SETS[c], covered)), reverse=True)\n",
    "    for c in sort_cand:\n",
    "        if np.all(covered):\n",
    "            break\n",
    "        covered = np.logical_or(covered, SETS[c])\n",
    "        added += 1\n",
    "    return added\n",
    "\n",
    "def compute_min_tiles5(state):  #sorts for number of overlapping blocks and actual number of false blocks of tiles\n",
    "    added = 0\n",
    "    covered = coverage(state)\n",
    "    sort_cand = sorted(state.not_taken, key=lambda c : sum(np.logical_and(SETS[c], covered)) + sum(np.logical_not(SETS[c])))\n",
    "    for c in sort_cand:\n",
    "        if np.all(covered):\n",
    "            break\n",
    "        covered = np.logical_or(covered, SETS[c])\n",
    "        added += 1\n",
    "    return added\n"
   ]
  },
  {
   "cell_type": "code",
   "execution_count": 4,
   "metadata": {},
   "outputs": [],
   "source": [
    "assert goal_check(\n",
    "    State(set(range(NUM_SETS)), set())\n",
    "), \"Problem not solvable\""
   ]
  },
  {
   "cell_type": "code",
   "execution_count": 5,
   "metadata": {},
   "outputs": [
    {
     "name": "stdout",
     "output_type": "stream",
     "text": [
      "Solved in 9 steps (3 tiles)\n"
     ]
    }
   ],
   "source": [
    "frontier = PriorityQueue()\n",
    "already_explored = []\n",
    "opt_sol = None\n",
    "found_solutions = []\n",
    "# frontier = SimpleQueue()\n",
    "\n",
    "state = State(set(), set(range(NUM_SETS)))\n",
    "frontier.put((distance(state), state))\n",
    "\n",
    "counter = 0\n",
    "skip_count = 0\n",
    "_, current_state = frontier.get()\n",
    "\n",
    "while not goal_check(current_state):\n",
    "    if sorted(current_state.taken) not in already_explored:\n",
    "        already_explored.append(sorted(current_state.taken))\n",
    "        counter += 1\n",
    "        for action in current_state[1]:\n",
    "            new_state = State(\n",
    "                current_state.taken ^ {action},\n",
    "                current_state.not_taken ^ {action},\n",
    "            )\n",
    "\n",
    "            frontier.put((len(new_state.taken) + compute_min_tiles4(new_state), new_state))\n",
    "\n",
    "    else:\n",
    "        skip_count += 1\n",
    "    _, current_state = frontier.get()\n",
    "\n",
    "\n",
    "print(\n",
    "    f\"Solved in {counter:,} steps ({len(current_state.taken)} tiles)\"\n",
    ")"
   ]
  },
  {
   "cell_type": "code",
   "execution_count": 6,
   "metadata": {},
   "outputs": [
    {
     "name": "stdout",
     "output_type": "stream",
     "text": [
      "{1, 18, 13}\n"
     ]
    }
   ],
   "source": [
    "print(current_state.taken)"
   ]
  },
  {
   "cell_type": "code",
   "execution_count": 7,
   "metadata": {},
   "outputs": [
    {
     "name": "stdout",
     "output_type": "stream",
     "text": [
      "0\n"
     ]
    }
   ],
   "source": [
    "print(skip_count)"
   ]
  },
  {
   "cell_type": "code",
   "execution_count": 8,
   "metadata": {},
   "outputs": [
    {
     "name": "stdout",
     "output_type": "stream",
     "text": [
      "9\n"
     ]
    }
   ],
   "source": [
    "print(len(already_explored))"
   ]
  },
  {
   "cell_type": "code",
   "execution_count": 10,
   "metadata": {},
   "outputs": [
    {
     "name": "stdout",
     "output_type": "stream",
     "text": [
      "[False  True False False  True  True  True False False False]\n",
      "[False False False  True False  True False False  True  True]\n",
      "[ True False  True  True False False False  True False False]\n"
     ]
    }
   ],
   "source": [
    "for i in current_state.taken:\n",
    "    print(SETS[i])"
   ]
  }
 ],
 "metadata": {
  "kernelspec": {
   "display_name": "ci-P-7LqQ3C-py3.11",
   "language": "python",
   "name": "python3"
  },
  "language_info": {
   "codemirror_mode": {
    "name": "ipython",
    "version": 3
   },
   "file_extension": ".py",
   "mimetype": "text/x-python",
   "name": "python",
   "nbconvert_exporter": "python",
   "pygments_lexer": "ipython3",
   "version": "3.12.0"
  }
 },
 "nbformat": 4,
 "nbformat_minor": 2
}
