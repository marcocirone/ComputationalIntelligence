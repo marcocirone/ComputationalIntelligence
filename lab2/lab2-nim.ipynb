{
 "cells": [
  {
   "cell_type": "markdown",
   "metadata": {
    "pycharm": {
     "name": "#%% md\n"
    }
   },
   "source": [
    "Copyright **`(c)`** 2022 Giovanni Squillero `<squillero@polito.it>`  \n",
    "[`https://github.com/squillero/computational-intelligence`](https://github.com/squillero/computational-intelligence)  \n",
    "Free for personal or classroom use; see [`LICENSE.md`](https://github.com/squillero/computational-intelligence/blob/master/LICENSE.md) for details.  \n"
   ]
  },
  {
   "cell_type": "markdown",
   "metadata": {
    "pycharm": {
     "name": "#%%\n"
    }
   },
   "source": [
    "# Lab 3: ES\n",
    "\n",
    "## Task\n",
    "\n",
    "Write agents able to play [*Nim*](https://en.wikipedia.org/wiki/Nim), with an arbitrary number of rows and an upper bound $k$ on the number of objects that can be removed in a turn (a.k.a., *subtraction game*).\n",
    "\n",
    "The goal of the game is to **avoid** taking the last object.\n",
    "\n",
    "* Task2.1: An agent using fixed rules based on *nim-sum* (i.e., an *expert system*)\n",
    "* Task2.2: An agent using evolved rules using ES\n",
    "\n",
    "## Instructions\n",
    "\n",
    "* Create the directory `lab2` inside your personal course repository for the course \n",
    "* Put a `README.md` and your solution (all the files, code and auxiliary data if needed)\n",
    "\n",
    "## Notes\n",
    "\n",
    "* Working in group is not only allowed, but recommended (see: [Ubuntu](https://en.wikipedia.org/wiki/Ubuntu_philosophy) and [Cooperative Learning](https://files.eric.ed.gov/fulltext/EJ1096789.pdf)). Collaborations must be explicitly declared in the `README.md`.\n",
    "* [Yanking](https://www.emacswiki.org/emacs/KillingAndYanking) from the internet is allowed, but sources must be explicitly declared in the `README.md`.\n",
    "\n"
   ]
  },
  {
   "cell_type": "code",
   "execution_count": 1,
   "metadata": {},
   "outputs": [],
   "source": [
    "from tqdm import tqdm\n",
    "import logging\n",
    "from pprint import pprint, pformat\n",
    "from collections import namedtuple\n",
    "import random\n",
    "from copy import deepcopy\n",
    "import numpy as np\n",
    "\n",
    "N_ROWS = 5\n",
    "N_GENERATIONS = 100\n",
    "POPULATION_SIZE = 20\n",
    "OFFSPRING_SIZE = 40\n",
    "TRAIN_MATCHES = 100\n",
    "TEST_MATCHES = 200\n",
    "K = 4"
   ]
  },
  {
   "cell_type": "markdown",
   "metadata": {},
   "source": [
    "## The *Nim* and *Nimply* classes"
   ]
  },
  {
   "cell_type": "code",
   "execution_count": 2,
   "metadata": {},
   "outputs": [],
   "source": [
    "Nimply = namedtuple(\"Nimply\", \"row, num_objects\")\n"
   ]
  },
  {
   "cell_type": "code",
   "execution_count": 3,
   "metadata": {},
   "outputs": [],
   "source": [
    "class Nim:\n",
    "    def __init__(self, num_rows: int, k: int = None) -> None:\n",
    "        self._rows = [i * 2 + 1 for i in range(num_rows)]\n",
    "        self._k = k\n",
    "\n",
    "    def __bool__(self):\n",
    "        return sum(self._rows) > 0\n",
    "\n",
    "    def __str__(self):\n",
    "        return \"<\" + \" \".join(str(_) for _ in self._rows) + \">\"\n",
    "\n",
    "    @property\n",
    "    def rows(self) -> tuple:\n",
    "        return tuple(self._rows)\n",
    "\n",
    "    def nimming(self, ply: Nimply) -> None:\n",
    "        row, num_objects = ply\n",
    "        assert self._rows[row] >= num_objects # , f\"{self._rows[row]} < {num_objects}\"\n",
    "        assert self._k is None or num_objects <= self._k\n",
    "        self._rows[row] -= num_objects\n"
   ]
  },
  {
   "cell_type": "markdown",
   "metadata": {},
   "source": [
    "## Sample (and silly) startegies "
   ]
  },
  {
   "cell_type": "code",
   "execution_count": 4,
   "metadata": {},
   "outputs": [],
   "source": [
    "def pure_random(state: Nim) -> Nimply:\n",
    "    \"\"\"A completely random move\"\"\"\n",
    "    row = random.choice([r for r, c in enumerate(state.rows) if c > 0])\n",
    "    num_objects = random.randint(1, state.rows[row])\n",
    "    return Nimply(row, num_objects)\n"
   ]
  },
  {
   "cell_type": "code",
   "execution_count": 5,
   "metadata": {},
   "outputs": [],
   "source": [
    "def gabriele(state: Nim) -> Nimply:\n",
    "    \"\"\"Pick always the maximum possible number of the lowest row\"\"\"\n",
    "    possible_moves = [(r, o) for r, c in enumerate(state.rows) for o in range(1, c + 1)]\n",
    "    return Nimply(*max(possible_moves, key=lambda m: (-m[0], m[1])))\n"
   ]
  },
  {
   "cell_type": "code",
   "execution_count": 6,
   "metadata": {},
   "outputs": [],
   "source": [
    "def nim_sum(state: Nim) -> int:\n",
    "    tmp = np.array([tuple(int(x) for x in f\"{c:032b}\") for c in state.rows])\n",
    "    xor = tmp.sum(axis=0) % 2\n",
    "    return int(\"\".join(str(_) for _ in xor), base=2)\n",
    "\n",
    "def analize(raw: Nim) -> dict:\n",
    "    cooked = dict()\n",
    "    cooked[\"possible_moves\"] = dict()\n",
    "    for ply in (Nimply(r, o) for r, c in enumerate(raw.rows) for o in range(1, (c + 1) if raw._k == None else min(c + 1, raw._k))):\n",
    "        tmp = deepcopy(raw)\n",
    "        tmp.nimming(ply)\n",
    "        cooked[\"possible_moves\"][ply] = nim_sum(tmp)\n",
    "    return cooked\n",
    "\n",
    "def find_all_moves (state: Nim):\n",
    "    analysis = analize(state)\n",
    "    logging.debug(f\"analysis:\\n{pformat(analysis)}\")\n",
    "    moves = [ply for ply, ns in analysis[\"possible_moves\"].items()]\n",
    "    return moves\n",
    "\n",
    "\n",
    "def optimal(state: Nim) -> Nimply:\n",
    "    analysis = analize(state)\n",
    "    logging.debug(f\"analysis:\\n{pformat(analysis)}\")\n",
    "    spicy_moves = [ply for ply, ns in analysis[\"possible_moves\"].items() if ns != 0]\n",
    "    if not spicy_moves:\n",
    "        spicy_moves = list(analysis[\"possible_moves\"].keys())\n",
    "    ply = random.choice(spicy_moves)\n",
    "    return ply\n"
   ]
  },
  {
   "cell_type": "code",
   "execution_count": 7,
   "metadata": {},
   "outputs": [],
   "source": [
    "def find_spicy_moves(state: Nim) -> list:  #list(Nimply)\n",
    "    analysis = analize(state)\n",
    "    logging.debug(f\"analysis:\\n{pformat(analysis)}\")\n",
    "    spicy_moves = [ply for ply, ns in analysis[\"possible_moves\"].items() if ns != 0]\n",
    "    if not spicy_moves:\n",
    "        spicy_moves = list(analysis[\"possible_moves\"].keys())\n",
    "    return spicy_moves\n",
    "\n",
    "def choose_play(gen: dict):\n",
    "    return np.random.choice(list(gen[\"rules\"].keys()), p=list(gen[\"rules\"].values()))\n",
    "    \n",
    "def make_move(mov, nim: Nim, spicy_moves: list):\n",
    "    best_sol = None\n",
    "    rows = nim.rows\n",
    "    if mov == \"emptiest_row\":   #find the move that leaves its own row as empty as possible\n",
    "        for sp in spicy_moves:\n",
    "            rem_elem = rows[sp[0]] - sp[1]\n",
    "            if best_sol == None or rem_elem < best_sol[1]:\n",
    "                best_sol = (sp, rem_elem)\n",
    "    elif mov == \"fullest_row\":   #find the move that leaves its own row as full as possible\n",
    "        for sp in spicy_moves:\n",
    "            rem_elem = rows[sp[0]] - sp[1]\n",
    "            if best_sol == None or rem_elem > best_sol[1]:\n",
    "                best_sol = (sp, rem_elem)\n",
    "    elif mov == \"largest_take\":   #find the move that allows you to take the greatest possible number of matches\n",
    "        for sp in spicy_moves:\n",
    "            if best_sol == None or sp[1] > best_sol[1]:\n",
    "                best_sol = (sp, sp[1])\n",
    "    return best_sol[0]\n",
    "\n",
    "def play_single_match(genome: dict, opponent_strategy):\n",
    "    strategy = (None, opponent_strategy)\n",
    "    \n",
    "    nim = Nim(N_ROWS, K)\n",
    "    # logging.info(f\"init : {nim}\")\n",
    "    player = 0\n",
    "    while nim:\n",
    "        if strategy[player] is not None:\n",
    "            ply = strategy[player](nim)\n",
    "        else:\n",
    "            moves = find_all_moves(nim)\n",
    "            move = choose_play(genome)\n",
    "            ply = make_move(move, nim, moves)\n",
    "        # logging.info(f\"ply: player {player} plays {ply}\")\n",
    "        nim.nimming(ply)\n",
    "        # logging.info(f\"status: {nim}\")\n",
    "        player = 1 - player\n",
    "    # logging.info(f\"status: Player {player} won!\") \n",
    "    return player\n",
    "\n",
    "def play_many_matches(genome: dict, opponent_strategy, n_matches):\n",
    "    n_wins = 0\n",
    "    for _ in range(n_matches):\n",
    "        if play_single_match(genome, opponent_strategy) == 0:\n",
    "            n_wins += 1\n",
    "    return n_wins\n",
    "\n",
    "def normalize_values(values):\n",
    "    som = sum(values)\n",
    "\n",
    "    for i in range(len(values)):\n",
    "        values[i] = values[i] / som\n",
    "    return values\n",
    "\n",
    "def adaptive(opponent_strategy):\n",
    "    \"\"\"A strategy that can adapt its parameters\"\"\"\n",
    "    population = []\n",
    "\n",
    "    for _ in range(POPULATION_SIZE):   #initialize population\n",
    "        init_values = list(np.random.dirichlet(np.ones(3)))\n",
    "        new_ind = {\n",
    "            \"rules\": {\n",
    "                \"emptiest_row\": init_values[0],\n",
    "                \"fullest_row\": init_values[1],\n",
    "                \"largest_take\": init_values[2],\n",
    "            },\n",
    "            \"variance\": 1\n",
    "        }\n",
    "        n_wins = play_many_matches(new_ind, opponent_strategy, TRAIN_MATCHES)\n",
    "        population.append((new_ind, n_wins))\n",
    "    \n",
    "    for gen in tqdm(range(N_GENERATIONS)):\n",
    "        offspring = []\n",
    "        for ind in population:\n",
    "            ind[0][\"variance\"] = np.abs(np.random.normal(loc=ind[0][\"variance\"], scale=0.2))   #modifying the variance of the individual\n",
    "            for _ in range(OFFSPRING_SIZE // POPULATION_SIZE):\n",
    "                new_values = normalize_values(np.abs(np.random.normal(loc = list(ind[0][\"rules\"].values()), scale = ind[0][\"variance\"])))\n",
    "                k = list(ind[0][\"rules\"].keys())\n",
    "                new_ind = dict()\n",
    "                new_ind[\"rules\"] = dict()\n",
    "                new_ind[\"variance\"] = ind[0][\"variance\"]\n",
    "                for i in range(len(k)):\n",
    "                    new_ind[\"rules\"][k[i]] = new_values[i]\n",
    "                count_wins = play_many_matches(new_ind, opponent_strategy, TRAIN_MATCHES)\n",
    "                offspring.append((new_ind, count_wins))\n",
    "\n",
    "        population += offspring\n",
    "\n",
    "        population = sorted(population, reverse=True, key=lambda e: e[1])\n",
    "        population = population[0:POPULATION_SIZE]\n",
    "\n",
    "        if population[0][1] > TRAIN_MATCHES / 2:\n",
    "            print(f\"Stopped at the {gen + 1}-th generation\")\n",
    "            break\n",
    "        \n",
    "    return max(population, key=lambda e : e[1])"
   ]
  },
  {
   "cell_type": "markdown",
   "metadata": {},
   "source": [
    "## Oversimplified match"
   ]
  },
  {
   "cell_type": "code",
   "execution_count": 8,
   "metadata": {},
   "outputs": [],
   "source": [
    "# logging.getLogger().setLevel(logging.INFO)\n",
    "\n",
    "# strategy = (optimal, pure_random)\n",
    "\n",
    "# nim = Nim(N_ROWS)\n",
    "# logging.info(f\"init : {nim}\")\n",
    "# player = 0\n",
    "# while nim:\n",
    "#     ply = strategy[player](nim)\n",
    "#     logging.info(f\"ply: player {player} plays {ply}\")\n",
    "#     nim.nimming(ply)\n",
    "#     logging.info(f\"status: {nim}\")\n",
    "#     player = 1 - player\n",
    "# logging.info(f\"status: Player {player} won!\")\n"
   ]
  },
  {
   "cell_type": "code",
   "execution_count": 9,
   "metadata": {},
   "outputs": [
    {
     "name": "stderr",
     "output_type": "stream",
     "text": [
      "100%|██████████| 100/100 [37:58<00:00, 22.79s/it]"
     ]
    },
    {
     "name": "stdout",
     "output_type": "stream",
     "text": [
      "The best individual is {'rules': {'emptiest_row': 0.01852002574156935, 'fullest_row': 0.24169438283232988, 'largest_take': 0.7397855914261008}, 'variance': 1.7964259939771516} with a win rate of 50/100\n"
     ]
    },
    {
     "name": "stderr",
     "output_type": "stream",
     "text": [
      "\n"
     ]
    }
   ],
   "source": [
    "winner = adaptive(optimal)\n",
    "print(f\"The best individual is {winner[0]} with a win rate of {winner[1]}/{TRAIN_MATCHES}\")"
   ]
  },
  {
   "cell_type": "code",
   "execution_count": 10,
   "metadata": {},
   "outputs": [
    {
     "name": "stdout",
     "output_type": "stream",
     "text": [
      "Final win rate: 71/200\n"
     ]
    }
   ],
   "source": [
    "count_wins = play_many_matches(winner[0], optimal, TEST_MATCHES)\n",
    "print(f\"Final win rate: {count_wins}/{TEST_MATCHES}\")"
   ]
  }
 ],
 "metadata": {
  "kernelspec": {
   "display_name": "Python 3.10.7 ('ci22-dPIXJ0_o-py3.10')",
   "language": "python",
   "name": "python3"
  },
  "language_info": {
   "codemirror_mode": {
    "name": "ipython",
    "version": 3
   },
   "file_extension": ".py",
   "mimetype": "text/x-python",
   "name": "python",
   "nbconvert_exporter": "python",
   "pygments_lexer": "ipython3",
   "version": "3.12.0"
  },
  "vscode": {
   "interpreter": {
    "hash": "10197e8e2f2aa67e2c349105091c77f4cd384fce4877865f002d9ec653f96bc0"
   }
  }
 },
 "nbformat": 4,
 "nbformat_minor": 2
}
