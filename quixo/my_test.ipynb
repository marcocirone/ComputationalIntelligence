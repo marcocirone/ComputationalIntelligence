{
 "cells": [
  {
   "cell_type": "code",
   "execution_count": 4,
   "metadata": {},
   "outputs": [
    {
     "name": "stdout",
     "output_type": "stream",
     "text": [
      "Parent:None,\n",
      "move:((4, 4), <Move.BOTTOM: 1>)\n",
      "depth:0\n",
      "children:0\n",
      "\n",
      "\n",
      "Parent:None,\n",
      "move:((4, 4), <Move.BOTTOM: 1>)\n",
      "depth:0\n",
      "children:1\n",
      "\n",
      "\n",
      "Parent:<main.Node object at 0x0000021FA7BF0590>,\n",
      "move:((4, 3), <Move.BOTTOM: 1>)\n",
      "depth:1\n",
      "children:0\n"
     ]
    }
   ],
   "source": [
    "from main import Tree, Node, Move\n",
    "\n",
    "mc_tree = Tree()\n",
    "move1 = ((4, 4), Move.BOTTOM)\n",
    "move2 = ((4, 3), Move.BOTTOM)\n",
    "node1 = Node(move1)\n",
    "node1.print()\n",
    "node2 = Node(move2, node1)\n",
    "print(\"\\n\")\n",
    "node1.print()\n",
    "print(\"\\n\")\n",
    "node2.print()"
   ]
  },
  {
   "cell_type": "code",
   "execution_count": 1,
   "metadata": {},
   "outputs": [
    {
     "data": {
      "text/plain": [
       "True"
      ]
     },
     "execution_count": 1,
     "metadata": {},
     "output_type": "execute_result"
    }
   ],
   "source": [
    "a=None\n",
    "b=None\n",
    "a==b\n"
   ]
  }
 ],
 "metadata": {
  "kernelspec": {
   "display_name": "quixo-w2WqLJaO-py3.12",
   "language": "python",
   "name": "python3"
  },
  "language_info": {
   "codemirror_mode": {
    "name": "ipython",
    "version": 3
   },
   "file_extension": ".py",
   "mimetype": "text/x-python",
   "name": "python",
   "nbconvert_exporter": "python",
   "pygments_lexer": "ipython3",
   "version": "3.12.0"
  }
 },
 "nbformat": 4,
 "nbformat_minor": 2
}
