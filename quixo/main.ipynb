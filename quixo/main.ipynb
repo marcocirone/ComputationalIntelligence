{
 "cells": [
  {
   "cell_type": "code",
   "execution_count": 1,
   "metadata": {},
   "outputs": [
    {
     "name": "stderr",
     "output_type": "stream",
     "text": [
      "c:\\Users\\marco\\AppData\\Local\\pypoetry\\Cache\\virtualenvs\\quixo-2SR8Bqo--py3.12\\Lib\\site-packages\\tqdm\\auto.py:21: TqdmWarning: IProgress not found. Please update jupyter and ipywidgets. See https://ipywidgets.readthedocs.io/en/stable/user_install.html\n",
      "  from .autonotebook import tqdm as notebook_tqdm\n"
     ]
    }
   ],
   "source": [
    "from game import Game\n",
    "from players import MyPlayer, RandomPlayer, HumanPlayer, print_board\n",
    "from tqdm.auto import tqdm"
   ]
  },
  {
   "cell_type": "code",
   "execution_count": 2,
   "metadata": {},
   "outputs": [],
   "source": [
    "# #Play against MyPlayer\n",
    "# g = Game()\n",
    "# player1 = MyPlayer(0, 3, against_human=True)\n",
    "# player2 = HumanPlayer()\n",
    "# print(\"PLAYER 1: \", '\\033[91m', \"X\", '\\033[0m')\n",
    "# print(\"PLAYER 2: \", '\\033[92m', \"O\", '\\033[0m')\n",
    "# winner = g.play(player1, player2)\n",
    "# print_board(g)\n",
    "# if winner == 0:\n",
    "#     print(\"Player 1 wins\")\n",
    "# else:    \n",
    "#     print(\"Player 2 wins\")"
   ]
  },
  {
   "cell_type": "code",
   "execution_count": 3,
   "metadata": {},
   "outputs": [],
   "source": [
    "TEST_MATCHES = 20\n",
    "WITH_SIMMETRY = False\n",
    "MY_PLAYER_ID = 1 # 0 => my player starts, 1 => opponent starts"
   ]
  },
  {
   "cell_type": "code",
   "execution_count": 4,
   "metadata": {},
   "outputs": [
    {
     "name": "stdout",
     "output_type": "stream",
     "text": [
      "\n",
      "TEST GAMES\n"
     ]
    },
    {
     "name": "stderr",
     "output_type": "stream",
     "text": [
      "100%|██████████| 20/20 [01:20<00:00,  4.04s/it]"
     ]
    },
    {
     "name": "stdout",
     "output_type": "stream",
     "text": [
      "wins: 100.00%, losses: 0.00%\n"
     ]
    },
    {
     "name": "stderr",
     "output_type": "stream",
     "text": [
      "\n"
     ]
    }
   ],
   "source": [
    "wins = 0\n",
    "losses = 0\n",
    "\n",
    "print(\"\\nTEST GAMES\")\n",
    "    \n",
    "for _ in tqdm(range(TEST_MATCHES)):\n",
    "    g = Game()\n",
    "    player1 = MyPlayer(MY_PLAYER_ID, max_depth=3, with_simmetries=WITH_SIMMETRY)\n",
    "    player2 = RandomPlayer()\n",
    "    winner = g.play(player1 if player1.player_id==0 else player2, player2 if player1.player_id==0 else player1)\n",
    "    if winner == player1.player_id:\n",
    "        wins +=1\n",
    "    else:\n",
    "        losses += 1\n",
    "print(f\"wins: {wins/TEST_MATCHES* 100:.2f}%, losses: {losses/TEST_MATCHES* 100:.2f}%\")"
   ]
  }
 ],
 "metadata": {
  "kernelspec": {
   "display_name": "quixo-2SR8Bqo--py3.12",
   "language": "python",
   "name": "python3"
  },
  "language_info": {
   "codemirror_mode": {
    "name": "ipython",
    "version": 3
   },
   "file_extension": ".py",
   "mimetype": "text/x-python",
   "name": "python",
   "nbconvert_exporter": "python",
   "pygments_lexer": "ipython3",
   "version": "3.12.0"
  }
 },
 "nbformat": 4,
 "nbformat_minor": 2
}
