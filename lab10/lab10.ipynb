{
 "cells": [
  {
   "cell_type": "code",
   "execution_count": 1,
   "metadata": {},
   "outputs": [
    {
     "name": "stderr",
     "output_type": "stream",
     "text": [
      "c:\\Users\\marco\\AppData\\Local\\pypoetry\\Cache\\virtualenvs\\lab10-AOkiQHQT-py3.12\\Lib\\site-packages\\tqdm\\auto.py:21: TqdmWarning: IProgress not found. Please update jupyter and ipywidgets. See https://ipywidgets.readthedocs.io/en/stable/user_install.html\n",
      "  from .autonotebook import tqdm as notebook_tqdm\n"
     ]
    }
   ],
   "source": [
    "import numpy as np\n",
    "from itertools import permutations\n",
    "from random import choice\n",
    "from collections import defaultdict\n",
    "from tqdm.auto import tqdm"
   ]
  },
  {
   "cell_type": "code",
   "execution_count": 2,
   "metadata": {},
   "outputs": [],
   "source": [
    "ALFA = 0.001\n",
    "LEARNING_RATE = 0.1\n",
    "CUT_DOWN = 0.5"
   ]
  },
  {
   "cell_type": "code",
   "execution_count": 3,
   "metadata": {},
   "outputs": [],
   "source": [
    "def get_state(moves1: list[int], moves2: list[int]) -> str:  #get the string representing the state\n",
    "    string_state = \"\"\n",
    "    for m in moves1:\n",
    "        string_state += str(m)\n",
    "    string_state += '|'\n",
    "    for m in moves2:\n",
    "        string_state += str(m)\n",
    "    return string_state\n",
    "\n",
    "Q = defaultdict(lambda: defaultdict(lambda: 0.0))"
   ]
  },
  {
   "cell_type": "code",
   "execution_count": 4,
   "metadata": {},
   "outputs": [],
   "source": [
    "class Player():\n",
    "    def __init__(self):\n",
    "        self.moves = []\n",
    "\n",
    "    def make_move(self, available_moves):\n",
    "        move = choice(available_moves)\n",
    "        self.moves.append(move)\n",
    "        return move\n",
    "    \n",
    "class MyPlayer(Player):\n",
    "    def __init__(self, Q):\n",
    "        super().__init__()\n",
    "        self.Q = Q\n",
    "\n",
    "    def make_move(self, available_moves: list[int]):\n",
    "        # first I need to see which moves are already made by the opponent\n",
    "        opponent_moves = list(set(list(range(9))) - set(available_moves) - set(self.moves))\n",
    "        state = get_state(sorted(self.moves), sorted(opponent_moves))\n",
    "\n",
    "        move = max(available_moves, key = lambda e: self.Q[state][str(e)])\n",
    "        self.moves.append(move)\n",
    "        return move\n",
    "\n",
    "class TicTacToe():\n",
    "    def __init__(self):\n",
    "        self.board = np.array([[1, 6, 5], [8, 4, 0], [3, 2, 7]])\n",
    "        self.available_moves = list(range(9))\n",
    "        self.current_player = \"X\"\n",
    "\n",
    "    def check_winner(self, player_moves):  # checks if a player has won the game\n",
    "        if sum(sum(h) == 12 for h in permutations(player_moves, 3)):\n",
    "            return True\n",
    "        return False\n",
    "\n",
    "    def play_game(self, players: list[Player], train=True, my_player=0):\n",
    "        current_player = 0\n",
    "        n_moves = 0\n",
    "        if my_player == 1:\n",
    "            n_moves += 1\n",
    "            init_state = get_state(sorted(players[0].moves), sorted(players[1].moves)) # state before the player performs the move \n",
    "            move = players[current_player].make_move(self.available_moves)\n",
    "            self.available_moves.remove(move)\n",
    "            current_player = 1\n",
    "        while len(self.available_moves) > 0:\n",
    "            n_moves += 1\n",
    "            init_state = get_state(sorted(players[0].moves), sorted(players[1].moves)) # state before the player performs the move \n",
    "            move = players[current_player].make_move(self.available_moves)\n",
    "            self.available_moves.remove(move)\n",
    "            next_state = get_state(sorted(players[0].moves), sorted(players[1].moves)) # state after the player has done its move\n",
    "            reward = 1 if self.check_winner(players[current_player].moves) else 0\n",
    "            # print(f\"#{n_moves}, init_state: {init_state}, move: {move}\")\n",
    "            if reward == 1:\n",
    "                if train:\n",
    "                    Q[init_state][str(move)] = (1 - LEARNING_RATE) * Q[init_state][str(move)] + LEARNING_RATE * (reward + CUT_DOWN * max(Q[next_state].values(), default=0))\n",
    "                return current_player\n",
    "            \n",
    "            if len(self.available_moves) == 0:\n",
    "                Q[init_state][str(move)] = (1 - LEARNING_RATE) * Q[init_state][str(move)] + LEARNING_RATE * (reward + CUT_DOWN * max(Q[next_state].values(), default=0)) # reward is 0\n",
    "                return None\n",
    "\n",
    "            current_player = 1 - current_player\n",
    "            n_moves += 1\n",
    "            move = players[current_player].make_move(self.available_moves)\n",
    "            self.available_moves.remove(move)\n",
    "            reward = -1 if self.check_winner(players[current_player].moves) else 0\n",
    "            if train:\n",
    "                # print(f\"#{n_moves}, init_state: {next_state}, move: {move}\")\n",
    "                Q[init_state][str(move)] = (1 - LEARNING_RATE) * Q[init_state][str(move)] + LEARNING_RATE * (reward + CUT_DOWN * max(Q[next_state].values(), default=0))\n",
    "            if reward == -1:\n",
    "                return current_player\n",
    "            current_player = 1 - current_player\n",
    "            \n",
    "        return None\n"
   ]
  },
  {
   "cell_type": "code",
   "execution_count": 5,
   "metadata": {},
   "outputs": [
    {
     "name": "stderr",
     "output_type": "stream",
     "text": [
      "  0%|          | 0/1000000 [00:00<?, ?it/s]"
     ]
    },
    {
     "name": "stderr",
     "output_type": "stream",
     "text": [
      "100%|██████████| 1000000/1000000 [00:58<00:00, 17188.00it/s]\n"
     ]
    }
   ],
   "source": [
    "for _ in tqdm(range(1_000_000)):\n",
    "   g = TicTacToe()\n",
    "   ply1 = Player()\n",
    "   ply2 = Player()\n",
    "   # g.play_game([ply1, ply2], my_player=0)\n",
    "   # g = TicTacToe()\n",
    "   g.play_game([ply1, ply2], my_player=1)"
   ]
  },
  {
   "cell_type": "code",
   "execution_count": 6,
   "metadata": {},
   "outputs": [
    {
     "name": "stdout",
     "output_type": "stream",
     "text": [
      "57, 34, 9\n"
     ]
    }
   ],
   "source": [
    "n_wins = 0\n",
    "n_draws = 0\n",
    "n_losses = 0\n",
    "\n",
    "for _ in range(100):\n",
    "    mp = MyPlayer(Q)\n",
    "    opp = Player()\n",
    "    g = TicTacToe()\n",
    "    winner = g.play_game([mp, opp], train=False, my_player=0)\n",
    "    if winner is None:\n",
    "        n_draws += 1\n",
    "    elif winner == 0:\n",
    "        n_wins += 1\n",
    "    else:\n",
    "        n_losses += 1\n",
    "print(f\"{n_wins}, {n_draws}, {n_losses}\")\n"
   ]
  },
  {
   "cell_type": "code",
   "execution_count": 7,
   "metadata": {},
   "outputs": [
    {
     "name": "stdout",
     "output_type": "stream",
     "text": [
      "11, 46, 43\n"
     ]
    }
   ],
   "source": [
    "n_wins = 0\n",
    "n_draws = 0\n",
    "n_losses = 0\n",
    "\n",
    "for _ in range(100):\n",
    "    mp = MyPlayer(Q)\n",
    "    opp = Player()\n",
    "    g = TicTacToe()\n",
    "    winner = g.play_game([opp, mp], train=False, my_player=1)\n",
    "    if winner is None:\n",
    "        n_draws += 1\n",
    "    elif winner == 1:\n",
    "        n_wins += 1\n",
    "    else:\n",
    "        n_losses += 1\n",
    "print(f\"{n_wins}, {n_draws}, {n_losses}\")"
   ]
  }
 ],
 "metadata": {
  "kernelspec": {
   "display_name": "lab10-AOkiQHQT-py3.12",
   "language": "python",
   "name": "python3"
  },
  "language_info": {
   "codemirror_mode": {
    "name": "ipython",
    "version": 3
   },
   "file_extension": ".py",
   "mimetype": "text/x-python",
   "name": "python",
   "nbconvert_exporter": "python",
   "pygments_lexer": "ipython3",
   "version": "3.12.0"
  }
 },
 "nbformat": 4,
 "nbformat_minor": 2
}
